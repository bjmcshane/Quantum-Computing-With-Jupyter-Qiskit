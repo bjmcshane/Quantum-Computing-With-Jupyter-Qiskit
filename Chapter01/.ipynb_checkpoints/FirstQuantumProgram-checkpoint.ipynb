{
 "cells": [
  {
   "cell_type": "code",
   "execution_count": 5,
   "metadata": {},
   "outputs": [],
   "source": [
    "%matplotlib inline\n",
    "import qiskit"
   ]
  },
  {
   "cell_type": "code",
   "execution_count": 13,
   "metadata": {},
   "outputs": [],
   "source": [
    "from qiskit import IBMQ\n",
    "# Authenticate an account and add for use during this session. Replace string argument with your private token.\n",
    "#IBMQ.enable_account(\"25bc30ad520443ccd56532fbf04accaf0686dda59ef26a89da815cc3ebab6f4e862a8e8ceb260fcbedf63dc958af252e0609fa3969ce02f4f19818ad3876b4f0\")\n",
    "# To store your credentials locally you can run:\n",
    "IBMQ.save_account(\"25bc30ad520443ccd56532fbf04accaf0686dda59ef26a89da815cc3ebab6f4e862a8e8ceb260fcbedf63dc958af252e0609fa3969ce02f4f19818ad3876b4f0\")"
   ]
  },
  {
   "cell_type": "code",
   "execution_count": 14,
   "metadata": {},
   "outputs": [
    {
     "name": "stdout",
     "output_type": "stream",
     "text": [
      "<AccountProvider for IBMQ(hub='ibm-q', group='open', project='main')>\n",
      "[<QasmSimulator('qasm_simulator') from AerProvider()>, <StatevectorSimulator('statevector_simulator') from AerProvider()>, <UnitarySimulator('unitary_simulator') from AerProvider()>]\n"
     ]
    }
   ],
   "source": [
    "print(IBMQ.get_provider()) # remote IBM backends\n",
    "from qiskit import Aer\n",
    "print(Aer.backends()) # local backends"
   ]
  },
  {
   "cell_type": "code",
   "execution_count": 15,
   "metadata": {},
   "outputs": [
    {
     "name": "stderr",
     "output_type": "stream",
     "text": [
      "//anaconda3/lib/python3.7/site-packages/qiskit/providers/ibmq/ibmqfactory.py:594: DeprecationWarning: IBMQ.get_backend() is being deprecated. Please use IBMQ.get_provider() to retrieve a provider and AccountProvider.get_backend(\"name\") to retrieve a backend.\n",
      "  DeprecationWarning)\n"
     ]
    }
   ],
   "source": [
    "# Pick an available backend\n",
    "acct = IBMQ.get_provider()\n",
    "acct.get_backend('ibmq_qasm_simulator')\n",
    "backend = IBMQ.get_backend('ibmq_qasm_simulator') # if this isn't available pick a backend whose name containes '_qasm_simulator' from the output above"
   ]
  },
  {
   "cell_type": "code",
   "execution_count": null,
   "metadata": {},
   "outputs": [],
   "source": []
  },
  {
   "cell_type": "code",
   "execution_count": null,
   "metadata": {},
   "outputs": [],
   "source": []
  }
 ],
 "metadata": {
  "kernelspec": {
   "display_name": "Python 3",
   "language": "python",
   "name": "python3"
  },
  "language_info": {
   "codemirror_mode": {
    "name": "ipython",
    "version": 3
   },
   "file_extension": ".py",
   "mimetype": "text/x-python",
   "name": "python",
   "nbconvert_exporter": "python",
   "pygments_lexer": "ipython3",
   "version": "3.7.3"
  }
 },
 "nbformat": 4,
 "nbformat_minor": 2
}
